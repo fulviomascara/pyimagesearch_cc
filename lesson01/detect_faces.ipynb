{
 "cells": [
  {
   "cell_type": "markdown",
   "metadata": {},
   "source": [
    "## Detectar Faces em uma imagem - Versão Jupyter Notebook"
   ]
  },
  {
   "cell_type": "code",
   "execution_count": 2,
   "metadata": {},
   "outputs": [],
   "source": [
    "# importar bibliotecas\n",
    "import numpy as np\n",
    "import argparse\n",
    "import cv2"
   ]
  },
  {
   "cell_type": "code",
   "execution_count": 3,
   "metadata": {},
   "outputs": [],
   "source": [
    "# parâmetros para execução\n",
    "image_file = 'images/johnson.jpeg'\n",
    "prototxt = 'deploy.prototxt.txt'\n",
    "model = 'res10_300x300_ssd_iter_140000.caffemodel'\n",
    "minimum_confidence = 0.7"
   ]
  },
  {
   "cell_type": "code",
   "execution_count": 4,
   "metadata": {},
   "outputs": [
    {
     "name": "stdout",
     "output_type": "stream",
     "text": [
      "[INFO] carregando modelo...\n"
     ]
    }
   ],
   "source": [
    "# carregar o modelo serializado do HD\n",
    "print(\"[INFO] carregando modelo...\")\n",
    "net = cv2.dnn.readNetFromCaffe(prototxt, model)"
   ]
  },
  {
   "cell_type": "code",
   "execution_count": 5,
   "metadata": {},
   "outputs": [],
   "source": [
    "# carregar a imagem de entrada e construir um blob pra esta imagem\n",
    "# através do resize para um tamanho fixo de 300x300 pixels e então normalizar\n",
    "# COMMENT: Por que estes valores para normalização? https://www.pyimagesearch.com/2017/11/06/deep-learning-opencvs-blobfromimage-works/\n",
    "image = cv2.imread(image_file)\n",
    "(h, w) = image.shape[:2]\n",
    "blob = cv2.dnn.blobFromImage(cv2.resize(image, (300, 300)), 1.0,\n",
    "    (300,300), (104.0, 117.0, 123.0))"
   ]
  },
  {
   "cell_type": "code",
   "execution_count": 6,
   "metadata": {},
   "outputs": [
    {
     "name": "stdout",
     "output_type": "stream",
     "text": [
      "[INFO] Calculando detecções de objetos\n"
     ]
    }
   ],
   "source": [
    "# passe o blob pela rede neural, obtenha as detecções e\n",
    "# predições\n",
    "print(\"[INFO] Calculando detecções de objetos\")\n",
    "net.setInput(blob)\n",
    "detections = net.forward()"
   ]
  },
  {
   "cell_type": "code",
   "execution_count": 7,
   "metadata": {},
   "outputs": [
    {
     "name": "stdout",
     "output_type": "stream",
     "text": [
      "(1, 1, 200, 7)\n"
     ]
    }
   ],
   "source": [
    "print(detections.shape)"
   ]
  },
  {
   "cell_type": "markdown",
   "metadata": {},
   "source": [
    "O shape retornado pela rede tem 200 possíveis rostos.\n",
    "Pra cada rosto, um array com 7 elementos:\n",
    "- 0 - Id Batch\n",
    "- 1 - Id Classe\n",
    "- 2 - Percentual de Confiança\n",
    "- 3 - Esquerda (Bounding Box)\n",
    "- 4 - Topo (Bounding Box)\n",
    "- 5 - Direita (Bounding Box)\n",
    "- 6 - Base (Bounding Box)"
   ]
  },
  {
   "cell_type": "code",
   "execution_count": 7,
   "metadata": {},
   "outputs": [],
   "source": [
    "# loop sob as detecções\n",
    "for i in range(0, detections.shape[2]):\n",
    "    # extrair a confiança (probabilidade) associada com a\n",
    "    # predição\n",
    "    confidence = detections[0, 0, i, 2]\n",
    "\n",
    "    # Eliminar detecções fracas, garantindo que a confiança é\n",
    "    # maior que a confiança esperada (argumento)\n",
    "    if confidence > minimum_confidence:\n",
    "        # calcular as coordenadas (X, y) do bounding box para o\n",
    "        # objeto\n",
    "        box = detections[0, 0, i, 3:7] * np.array([w, h, w, h])\n",
    "        (startX, startY, endX, endY) = box.astype(\"int\")\n",
    "\n",
    "        # desenhar o bounding box do rosto com a probabilidade\n",
    "        # associada\n",
    "        text = \"{:.2f}%\".format(confidence * 100)\n",
    "        y = startY - 10 if startY - 10 > 10 else startY + 10\n",
    "        cv2.rectangle(image, (startX, startY), (endX, endY),\n",
    "            (0, 0, 255), 2)\n",
    "        cv2.putText(image, text, (startX, y),\n",
    "            cv2.FONT_HERSHEY_SIMPLEX, 0.45, (0, 0, 255), 2)"
   ]
  },
  {
   "cell_type": "code",
   "execution_count": 8,
   "metadata": {},
   "outputs": [],
   "source": [
    "# mostrar a imagem de saída\n",
    "cv2.imshow(\"Output\", image)\n",
    "cv2.waitKey(0)\n",
    "cv2.destroyAllWindows()"
   ]
  }
 ],
 "metadata": {
  "kernelspec": {
   "display_name": "Python 3",
   "language": "python",
   "name": "python3"
  },
  "language_info": {
   "codemirror_mode": {
    "name": "ipython",
    "version": 3
   },
   "file_extension": ".py",
   "mimetype": "text/x-python",
   "name": "python",
   "nbconvert_exporter": "python",
   "pygments_lexer": "ipython3",
   "version": "3.7.4"
  }
 },
 "nbformat": 4,
 "nbformat_minor": 4
}
